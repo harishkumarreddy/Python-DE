{
 "cells": [
  {
   "cell_type": "code",
   "execution_count": 27,
   "id": "5eab19d2",
   "metadata": {},
   "outputs": [],
   "source": [
    "import datetime"
   ]
  },
  {
   "cell_type": "code",
   "execution_count": 3,
   "id": "efed9895",
   "metadata": {},
   "outputs": [],
   "source": [
    "myname = \"Harishkumar\"\n",
    "_myname = \"\"\n",
    "\n",
    "# Snakecase\n",
    "my_name=\"Harish\"\n",
    "\n",
    "#camelCase\n",
    "myName=\"Harishkumar\"\n",
    "\n",
    "#TitleCase\n",
    "MyName = \"Harish\""
   ]
  },
  {
   "cell_type": "code",
   "execution_count": 4,
   "id": "24117f63",
   "metadata": {},
   "outputs": [
    {
     "name": "stdout",
     "output_type": "stream",
     "text": [
      "Harishkumar\n"
     ]
    }
   ],
   "source": [
    "print(myname)"
   ]
  },
  {
   "cell_type": "code",
   "execution_count": 8,
   "id": "3c60091e",
   "metadata": {},
   "outputs": [],
   "source": [
    "# Data Types\n",
    "# 1. Primithive Datatyps\n",
    "# 2. Non-Primithive Datatypes / Scallar data types"
   ]
  },
  {
   "cell_type": "code",
   "execution_count": null,
   "id": "229e3ca6",
   "metadata": {},
   "outputs": [],
   "source": [
    "# 1. Primithive Datatyps\n",
    "#     String\n",
    "#     Int\n",
    "#     Float\n",
    "#     Doubul\n",
    "#     Bool\n",
    "#     Date\n",
    "#     time\n",
    "#     datetime"
   ]
  },
  {
   "cell_type": "code",
   "execution_count": 9,
   "id": "1030b6a8",
   "metadata": {},
   "outputs": [],
   "source": [
    "# STring\n",
    "student_name = \"Harishkumar\"\n",
    "student_email = \"harish@gmail.com\"\n",
    "stu_contact_address=\"#301, 401-24-2LA, Hyderabad\"\n",
    "\n",
    "# Int\n",
    "stu_age = 34\n",
    "\n",
    "#float\n",
    "stu_height = 5.9\n",
    "\n",
    "#DOuble\n",
    "stu_score= 162.256478965556\n",
    "\n",
    "# Bool\n",
    "is_active = True\n",
    "is_valentear=False\n",
    "\n"
   ]
  },
  {
   "cell_type": "code",
   "execution_count": 13,
   "id": "ac478867",
   "metadata": {},
   "outputs": [
    {
     "name": "stdout",
     "output_type": "stream",
     "text": [
      "Name: Harishkumar\n"
     ]
    }
   ],
   "source": [
    "print(\"Name: %s\" % student_name)"
   ]
  },
  {
   "cell_type": "code",
   "execution_count": 16,
   "id": "4d31da08",
   "metadata": {},
   "outputs": [
    {
     "name": "stdout",
     "output_type": "stream",
     "text": [
      "Name: Harishkumar\n",
      "Email: harish@gmail.com\n"
     ]
    }
   ],
   "source": [
    "print(f\"Name: {student_name}\")\n",
    "print(f\"Email: {student_email}\")"
   ]
  },
  {
   "cell_type": "code",
   "execution_count": 21,
   "id": "74e286d6",
   "metadata": {},
   "outputs": [
    {
     "name": "stdout",
     "output_type": "stream",
     "text": [
      "Name: Harishkumar\n",
      "Email: harish@gmail.com\n",
      "\tharish@gmail.com\n"
     ]
    }
   ],
   "source": [
    "print(f\"Name: {student_name}\\nEmail: {student_email}\\n\\t{student_email}\")"
   ]
  },
  {
   "cell_type": "code",
   "execution_count": 22,
   "id": "1e916013",
   "metadata": {},
   "outputs": [
    {
     "name": "stdout",
     "output_type": "stream",
     "text": [
      "Name: Harishkumar, and age34\n"
     ]
    }
   ],
   "source": [
    "print(\"Name: {}, and age{}\".format(student_name, stu_age))"
   ]
  },
  {
   "cell_type": "code",
   "execution_count": 29,
   "id": "ad2429bb",
   "metadata": {},
   "outputs": [],
   "source": [
    "tday = datetime.datetime.now()"
   ]
  },
  {
   "cell_type": "code",
   "execution_count": 30,
   "id": "3bc8dec2",
   "metadata": {},
   "outputs": [
    {
     "data": {
      "text/plain": [
       "datetime.datetime(2021, 10, 21, 7, 14, 38, 998256)"
      ]
     },
     "execution_count": 30,
     "metadata": {},
     "output_type": "execute_result"
    }
   ],
   "source": [
    "tday"
   ]
  },
  {
   "cell_type": "code",
   "execution_count": 31,
   "id": "49e641b6",
   "metadata": {},
   "outputs": [
    {
     "data": {
      "text/plain": [
       "'2021-10-21 07:14:38.998256'"
      ]
     },
     "execution_count": 31,
     "metadata": {},
     "output_type": "execute_result"
    }
   ],
   "source": [
    "str(tday)"
   ]
  },
  {
   "cell_type": "code",
   "execution_count": 32,
   "id": "630fc82a",
   "metadata": {},
   "outputs": [],
   "source": [
    "dob = \"1987-9-2\""
   ]
  },
  {
   "cell_type": "code",
   "execution_count": 33,
   "id": "ebb034d6",
   "metadata": {},
   "outputs": [
    {
     "data": {
      "text/plain": [
       "str"
      ]
     },
     "execution_count": 33,
     "metadata": {},
     "output_type": "execute_result"
    }
   ],
   "source": [
    "type(dob)"
   ]
  },
  {
   "cell_type": "code",
   "execution_count": 34,
   "id": "a4419b72",
   "metadata": {},
   "outputs": [],
   "source": [
    "dt_dob = datetime.datetime(1987,9,2)"
   ]
  },
  {
   "cell_type": "code",
   "execution_count": 39,
   "id": "289c34c1",
   "metadata": {},
   "outputs": [
    {
     "data": {
      "text/plain": [
       "datetime.datetime(1987, 9, 2, 0, 0)"
      ]
     },
     "execution_count": 39,
     "metadata": {},
     "output_type": "execute_result"
    }
   ],
   "source": [
    "dt_dob"
   ]
  },
  {
   "cell_type": "code",
   "execution_count": 36,
   "id": "584962dc",
   "metadata": {},
   "outputs": [
    {
     "data": {
      "text/plain": [
       "'1987-09-02 00:00:00'"
      ]
     },
     "execution_count": 36,
     "metadata": {},
     "output_type": "execute_result"
    }
   ],
   "source": [
    "str(dt_dob)"
   ]
  },
  {
   "cell_type": "code",
   "execution_count": 46,
   "id": "e52ab92d",
   "metadata": {},
   "outputs": [
    {
     "name": "stdout",
     "output_type": "stream",
     "text": [
      "87\n"
     ]
    }
   ],
   "source": [
    "y_dob = dt_dob.strftime(\"%y\")\n",
    "print(y_dob)"
   ]
  },
  {
   "cell_type": "code",
   "execution_count": 49,
   "id": "a60c9283",
   "metadata": {},
   "outputs": [
    {
     "name": "stdout",
     "output_type": "stream",
     "text": [
      "09mm\n"
     ]
    }
   ],
   "source": [
    "m_dob = dt_dob.strftime(\"%mmm\")\n",
    "print(m_dob)"
   ]
  },
  {
   "cell_type": "code",
   "execution_count": null,
   "id": "814cc2d2",
   "metadata": {},
   "outputs": [],
   "source": [
    "Sr.No.\tDirectives & Description\n",
    "1\t\n",
    "%A\n",
    "\n",
    "Full Weekday name\n",
    "\n",
    "2\t\n",
    "%B\n",
    "\n",
    "Full Month Name\n",
    "\n",
    "3\t\n",
    "%d\n",
    "\n",
    "Day of the month (1 to 31)\n",
    "\n",
    "4\t\n",
    "%S\n",
    "\n",
    "Second\n",
    "\n",
    "5\t\n",
    "%G\n",
    "\n",
    "4 digit Year, corresponding to ISO week number\n",
    "\n",
    "6\t\n",
    "%m\n",
    "\n",
    "Month (1 to 12)\n",
    "\n",
    "7\t\n",
    "%M\n",
    "\n",
    "Minute\n",
    "\n",
    "8\t\n",
    "%T\n",
    "\n",
    "Current time, equal to %H:%M:%S\n",
    "\n",
    "9\t\n",
    "%W\n",
    "\n",
    "Week number of the current year, starting with the first Monday as the first day of the first week\n",
    "\n",
    "10\t\n",
    "%w\n",
    "\n",
    "Day of the week as a decimal, Sunday=0\n",
    "\n",
    "11\t\n",
    "%Y\n",
    "\n",
    "Year including the century\n",
    "\n",
    "12\t\n",
    "%Z or %z\n",
    "\n",
    "Time zone or name or abbreviation"
   ]
  },
  {
   "cell_type": "code",
   "execution_count": 50,
   "id": "056dcec9",
   "metadata": {},
   "outputs": [
    {
     "data": {
      "text/plain": [
       "'September'"
      ]
     },
     "execution_count": 50,
     "metadata": {},
     "output_type": "execute_result"
    }
   ],
   "source": [
    "dt_dob.strftime(\"%B\")"
   ]
  },
  {
   "cell_type": "code",
   "execution_count": 51,
   "id": "aa61b4ab",
   "metadata": {},
   "outputs": [
    {
     "data": {
      "text/plain": [
       "'September 02, 1987'"
      ]
     },
     "execution_count": 51,
     "metadata": {},
     "output_type": "execute_result"
    }
   ],
   "source": [
    "dt_dob.strftime(\"%B %d, %Y\")"
   ]
  },
  {
   "cell_type": "code",
   "execution_count": 54,
   "id": "e6179347",
   "metadata": {},
   "outputs": [
    {
     "data": {
      "text/plain": [
       "'00'"
      ]
     },
     "execution_count": 54,
     "metadata": {},
     "output_type": "execute_result"
    }
   ],
   "source": [
    "dt_dob.strftime(\"%M\")"
   ]
  },
  {
   "cell_type": "code",
   "execution_count": 56,
   "id": "f96127a5",
   "metadata": {},
   "outputs": [
    {
     "data": {
      "text/plain": [
       "''"
      ]
     },
     "execution_count": 56,
     "metadata": {},
     "output_type": "execute_result"
    }
   ],
   "source": [
    "dt_dob.strftime(\"%z\")"
   ]
  },
  {
   "cell_type": "code",
   "execution_count": null,
   "id": "9d9110de",
   "metadata": {},
   "outputs": [],
   "source": []
  }
 ],
 "metadata": {
  "kernelspec": {
   "display_name": "Python 3",
   "language": "python",
   "name": "python3"
  },
  "language_info": {
   "codemirror_mode": {
    "name": "ipython",
    "version": 3
   },
   "file_extension": ".py",
   "mimetype": "text/x-python",
   "name": "python",
   "nbconvert_exporter": "python",
   "pygments_lexer": "ipython3",
   "version": "3.8.8"
  }
 },
 "nbformat": 4,
 "nbformat_minor": 5
}
