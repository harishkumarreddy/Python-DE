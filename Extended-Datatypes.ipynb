{
 "cells": [
  {
   "cell_type": "code",
   "execution_count": 1,
   "id": "34830bdb",
   "metadata": {},
   "outputs": [],
   "source": [
    "# Non-Primityive Data types\n",
    "# List\n",
    "# Topul\n",
    "# Sets\n",
    "# Dict"
   ]
  },
  {
   "cell_type": "code",
   "execution_count": 2,
   "id": "969e05a6",
   "metadata": {},
   "outputs": [],
   "source": [
    "l_froutes = [\"Apple\",12, 5.6,1000.00, \"31-12-2021\"]"
   ]
  },
  {
   "cell_type": "code",
   "execution_count": 3,
   "id": "06db3403",
   "metadata": {},
   "outputs": [
    {
     "data": {
      "text/plain": [
       "list"
      ]
     },
     "execution_count": 3,
     "metadata": {},
     "output_type": "execute_result"
    }
   ],
   "source": [
    "type(l_froutes)"
   ]
  },
  {
   "cell_type": "code",
   "execution_count": 4,
   "id": "bbc33502",
   "metadata": {},
   "outputs": [
    {
     "name": "stdout",
     "output_type": "stream",
     "text": [
      "Frout: Apple\n",
      "count: 12\n",
      "Wait: 5.6Kgs\n",
      "price: 1000.0/- Rs\n",
      "Exp-Date: 31-12-2021\n"
     ]
    }
   ],
   "source": [
    "print(f\"Frout: {l_froutes[0]}\")\n",
    "print(f\"count: {l_froutes[1]}\")\n",
    "print(f\"Wait: {l_froutes[2]}Kgs\")\n",
    "print(f\"price: {l_froutes[3]}/- Rs\")\n",
    "print(f\"Exp-Date: {l_froutes[4]}\")"
   ]
  },
  {
   "cell_type": "code",
   "execution_count": null,
   "id": "40f90004",
   "metadata": {},
   "outputs": [],
   "source": []
  },
  {
   "cell_type": "code",
   "execution_count": null,
   "id": "7f18aa42",
   "metadata": {},
   "outputs": [],
   "source": []
  },
  {
   "cell_type": "code",
   "execution_count": null,
   "id": "c2c35668",
   "metadata": {},
   "outputs": [],
   "source": []
  },
  {
   "cell_type": "code",
   "execution_count": null,
   "id": "ac68f606",
   "metadata": {},
   "outputs": [],
   "source": []
  },
  {
   "cell_type": "code",
   "execution_count": null,
   "id": "8d7e99cb",
   "metadata": {},
   "outputs": [],
   "source": []
  },
  {
   "cell_type": "code",
   "execution_count": null,
   "id": "e3900659",
   "metadata": {},
   "outputs": [],
   "source": []
  }
 ],
 "metadata": {
  "kernelspec": {
   "display_name": "Python 3",
   "language": "python",
   "name": "python3"
  },
  "language_info": {
   "codemirror_mode": {
    "name": "ipython",
    "version": 3
   },
   "file_extension": ".py",
   "mimetype": "text/x-python",
   "name": "python",
   "nbconvert_exporter": "python",
   "pygments_lexer": "ipython3",
   "version": "3.8.8"
  }
 },
 "nbformat": 4,
 "nbformat_minor": 5
}
